{
 "cells": [
  {
   "cell_type": "code",
   "execution_count": null,
   "id": "cfacf68a-e9bd-4e9b-9863-8a1c7738b9ee",
   "metadata": {},
   "outputs": [],
   "source": [
    "##################################################################################################\n",
    "# Author：Yun Zheng\n",
    "# Email：18848234471@163.com\n",
    "# If there are any shortcomings, please forgive me,because this is my first time sharing.\n",
    "##################################################################################################\n",
    "# Data Augmentation - Grape\n",
    "# package\n",
    "from sklearn.preprocessing import MinMaxScaler\n",
    "import matplotlib.pyplot as plt\n",
    "import numpy as np\n",
    "import pandas as pd\n",
    "from skimage.metrics import structural_similarity as ssim\n",
    "##################################################################################################\n",
    "# Random seed\n",
    "np.random.seed(42)\n",
    "# Read medication data\n",
    "df = pd.read_csv('putao.csv', header=None)\n",
    "X1 = df.iloc[1:21, 1:].to_numpy()\n",
    "# Normalization\n",
    "scaler = MinMaxScaler()\n",
    "spectra_data = scaler.fit_transform(X1)\n",
    "# Bootstrap sampling\n",
    "bootstrap_iterations = 20\n",
    "# Storing the near-infrared spectral data of all Bootstrap samples\n",
    "bootstrap_samples_combined = []\n",
    "for i in range(bootstrap_iterations):\n",
    "    # Perform sampling with replacement on sample indices\n",
    "    bootstrap_indices = np.random.choice(20, size=20, replace=True)\n",
    "    # Retrieve samples corresponding to the sampled indices\n",
    "    bootstrap_sample = spectra_data[bootstrap_indices, :]\n",
    "    # Add the sampled results to the synthesized array\n",
    "    bootstrap_samples_combined.extend(bootstrap_sample)\n",
    "    # Print the result of each Bootstrap sampling\n",
    "    print(f\"Iteration {i+1}: Bootstrap Sample =\\n{bootstrap_sample}\")\n",
    "# Inverse normalization\n",
    "s1 = scaler.inverse_transform(bootstrap_samples_combined)\n",
    "# The way to get s2.....s20 just the same as s1\n",
    "##################################################################################################"
   ]
  }
 ],
 "metadata": {
  "kernelspec": {
   "display_name": "Python 3 (ipykernel)",
   "language": "python",
   "name": "python3"
  },
  "language_info": {
   "codemirror_mode": {
    "name": "ipython",
    "version": 3
   },
   "file_extension": ".py",
   "mimetype": "text/x-python",
   "name": "python",
   "nbconvert_exporter": "python",
   "pygments_lexer": "ipython3",
   "version": "3.11.3"
  }
 },
 "nbformat": 4,
 "nbformat_minor": 5
}
